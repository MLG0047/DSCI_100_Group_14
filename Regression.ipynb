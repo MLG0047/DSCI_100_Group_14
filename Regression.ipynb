{
 "cells": [
  {
   "cell_type": "markdown",
   "id": "cba01cd7-246c-450c-9253-1206df1d8fc1",
   "metadata": {},
   "source": [
    "Bulk of Regression code for later. DO NOT RUN AS IS. Many placeholder names etc etc. See hashtags in code for a break down of steps and such"
   ]
  },
  {
   "cell_type": "code",
   "execution_count": 1,
   "id": "4bdb09cc-2ee2-4b47-a8a3-4b571658a883",
   "metadata": {},
   "outputs": [
    {
     "ename": "ERROR",
     "evalue": "Error in parse(text = x, srcfile = src): <text>:6:25: unexpected symbol\n5:        set_mode(\"regression\") \n6: RECIPE <- recipe(SHOULD PREDICT\n                           ^\n",
     "output_type": "error",
     "traceback": [
      "Error in parse(text = x, srcfile = src): <text>:6:25: unexpected symbol\n5:        set_mode(\"regression\") \n6: RECIPE <- recipe(SHOULD PREDICT\n                           ^\nTraceback:\n"
     ]
    }
   ],
   "source": [
    "#Creating the component bits of our workflow\n",
    "\n",
    "MODEL <- nearest_neighbor(weight_func = \"rectangular\", neighbors =tune()) |> \n",
    "       set_engine(\"kknn\") |>\n",
    "       set_mode(\"regression\") \n",
    "RECIPE <- recipe(SHOULD PREDICT ~ PREDICTOR, data =  TRAINING DATA) |>\n",
    "       step_scale(all_predictors()) |>\n",
    "       step_center(all_predictors())"
   ]
  },
  {
   "cell_type": "code",
   "execution_count": 2,
   "id": "f207e649-51d7-4b50-b930-fca7a40d39e0",
   "metadata": {},
   "outputs": [],
   "source": [
    "#Making the Workflow  and cross validating... did we strata our original data when we split it because we should even if the\n",
    "#range isnt that big\n",
    "#Not sure how many cross validations we want to do. On worksheet we did 5... maybe start with that and see where it goes?\n",
    "\n",
    "CROSS VALIDATION<-vfold_cv(TRAINING DATA, v=NUMBER, strata = SHOULD PREDICT)\n",
    "\n",
    "WORKFLOW <-workflow()|>\n",
    "add_recipe(RECIPE)|>\n",
    "add_model(MODEL)\n",
    "\n"
   ]
  },
  {
   "cell_type": "code",
   "execution_count": null,
   "id": "ce769b3c-c807-44da-8db1-d8e53df10ed9",
   "metadata": {},
   "outputs": [],
   "source": [
    "#Now using cross validation, will set a range of values where we want to look for the best K. In worksheet they go by every \n",
    "#ten which seems like a good standard so i will keep these numbers for now\n",
    "#then make our model sample that over and over eating away at our precious memory but giving us data on which k is the best. \n",
    "#Then will find best K val (lowest RMSE)\n",
    "\n",
    "\n",
    "GRIDVALS<-tibble(neighbors=seq(from=1, to=81, by=10))\n",
    "\n",
    "RESULTS<-WORKFLOW|>\n",
    "tune_grid(resamples=CROSS VALIDATION , grid=GRIDVALS)|>\n",
    "collect_metrics()\n",
    "\n",
    "MINIMUM RMSE<- RESULTS |>\n",
    "    filter(.metric == \"rmse\") |>\n",
    "    slice_min(mean, n=1)"
   ]
  },
  {
   "cell_type": "code",
   "execution_count": null,
   "id": "8a67d844-4316-462c-aca6-df77ddf0ff48",
   "metadata": {},
   "outputs": [],
   "source": [
    "#Now using our shiny new K value, lets make a better model and workflow\n",
    "\n",
    "TUNED MODEL <- nearest_neighbor(weight_func =\"rectangular\", neighbors = NEW K VALUE) |>\n",
    "          set_engine(\"kknn\") |>\n",
    "          set_mode(\"regression\")\n",
    "\n",
    "TUNED WORKFLOW <- workflow() |>\n",
    "          add_recipe(RECIPE) |>\n",
    "          add_model(TUNED MODEL) |>\n",
    "          fit(data = TRAINED DATA)"
   ]
  },
  {
   "cell_type": "code",
   "execution_count": null,
   "id": "1347060e-db3f-4d30-802d-7089cf012426",
   "metadata": {},
   "outputs": [],
   "source": [
    "#Let's see how good our model is. This is veering into visualization but I am on a roll at this point so why stop now ya know?\n",
    "#See question 8.2 on regression worksheet one so we can understand the table this spits out. Tells us how good our model is.\n",
    "SUMMARY <- TUNED WORKFLOW |>\n",
    "           predict(TESTING DATA) |>\n",
    "           bind_cols(TESTING DATA) |>\n",
    "           metrics(truth = WHAT WE ARE PREDICTING, estimate = .pred)\n"
   ]
  },
  {
   "cell_type": "code",
   "execution_count": null,
   "id": "555bf707-944b-4f8f-9405-d69b24fc613d",
   "metadata": {},
   "outputs": [],
   "source": [
    "# This is one way we can visualize our model. Here we are showing the prediction line thing over top of our data points. Cool\n",
    "#In worksheet they use the training data because there are more data points. we could do that as long as we explain what we \n",
    "#are doing and why. Could use all data. See question 9.0 for more details. Here is just the plot part\n",
    "\n",
    "PLOT<-ggplot(DATA TO BE )+\n",
    "geom_point(aes(y=time_hrs, x=max), alpha=8)+\n",
    "geom_line(aes(y=.pred, x=max), color=\"blue\")+\n",
    "xlab(\"Training Distance (Max miles per Week)\")+\n",
    "ylab(\"Marathon Times (Hours)\")+\n",
    "ggtitle(\"Max Distance ran during training vs. Marathon Times\")\n"
   ]
  }
 ],
 "metadata": {
  "kernelspec": {
   "display_name": "R",
   "language": "R",
   "name": "ir"
  },
  "language_info": {
   "codemirror_mode": "r",
   "file_extension": ".r",
   "mimetype": "text/x-r-source",
   "name": "R",
   "pygments_lexer": "r",
   "version": "4.3.1"
  }
 },
 "nbformat": 4,
 "nbformat_minor": 5
}
