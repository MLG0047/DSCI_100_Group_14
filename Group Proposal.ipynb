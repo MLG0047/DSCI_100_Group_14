{
 "cells": [
  {
   "cell_type": "code",
   "execution_count": 2,
   "id": "2af76693-e6e4-4a62-ac38-3f179735b569",
   "metadata": {},
   "outputs": [
    {
     "name": "stdout",
     "output_type": "stream",
     "text": [
      "[1] \"Testing Tracy\"\n"
     ]
    }
   ],
   "source": [
    "print(\"Testing Tracy\")"
   ]
  },
  {
   "cell_type": "code",
   "execution_count": null,
   "id": "b972c1a2-e6b7-4a6d-b914-9a9c787c92f9",
   "metadata": {},
   "outputs": [],
   "source": [
    "print(\"Hello, World!\")"
   ]
  },
  {
   "cell_type": "code",
   "execution_count": null,
   "id": "3b5b5304-87d9-4e01-bd38-1e3e8ed76830",
   "metadata": {},
   "outputs": [],
   "source": [
    "print(\"Testing 3\")"
   ]
  }
 ],
 "metadata": {
  "kernelspec": {
   "display_name": "R",
   "language": "R",
   "name": "ir"
  },
  "language_info": {
   "codemirror_mode": "r",
   "file_extension": ".r",
   "mimetype": "text/x-r-source",
   "name": "R",
   "pygments_lexer": "r",
   "version": "4.3.1"
  }
 },
 "nbformat": 4,
 "nbformat_minor": 5
}
