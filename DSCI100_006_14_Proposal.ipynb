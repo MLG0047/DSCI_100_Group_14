{
 "cells": [
  {
   "cell_type": "markdown",
   "id": "e3bf7eb6-9259-4a71-bbf3-084dfbdb01df",
   "metadata": {},
   "source": [
    "TITLE HERE"
   ]
  },
  {
   "cell_type": "markdown",
   "id": "f0f00018-8d16-416c-ae05-0dfca6c05f7a",
   "metadata": {},
   "source": [
    "Intro start. explain tennis rankings, how you move up and down, is 1 good or bad etc) explain a bit about the ace serve \n",
    "and double fault. what they are\n",
    "\n",
    "explain our question. can we estimate a players ranking based on ratio of ace serve to double fault etc\n"
   ]
  },
  {
   "cell_type": "markdown",
   "id": "cb13e69a-2b57-4c75-9ce2-38ed97b3f224",
   "metadata": {},
   "source": [
    "descibe data. what are we measuring"
   ]
  },
  {
   "cell_type": "markdown",
   "id": "e0d32f1b-9f3f-49d2-9e02-6fa66a3f5570",
   "metadata": {},
   "source": [
    "**Reading The Data**"
   ]
  },
  {
   "cell_type": "code",
   "execution_count": null,
   "id": "16a73354-99b5-42e4-a4b4-a43f788835a6",
   "metadata": {},
   "outputs": [],
   "source": [
    "# load packages\n",
    "library(tidyverse)\n",
    "library(tidymodels)\n",
    "library(repr)\n",
    "# read the data \n",
    "# note: The code below will download the data into the current working directory and read it\n",
    "url <- \"https://drive.google.com/uc?export=download&id=1fOQ8sy_qMkQiQEAO6uFdRX4tLI8EpSTn\"\n",
    "download.file(url, \"./atp2017-2019.csv\")\n",
    "player_result <- read_csv(\"./atp2017-2019.csv\")\n",
    "glimpse(player_result)"
   ]
  },
  {
   "cell_type": "markdown",
   "id": "3bf2f492-3273-4200-bc24-e059c681b987",
   "metadata": {},
   "source": [
    "**Cleaning and Wrangling The Data**"
   ]
  },
  {
   "cell_type": "code",
   "execution_count": null,
   "id": "f551d500-4741-4d25-8680-2fdaa8494060",
   "metadata": {},
   "outputs": [],
   "source": [
    "# filter year 2019, there is indeed a more formal way with more steps to do that,\n",
    "# but we can simply do it this way with only one step because we don't need the\n",
    "# year information later on\n",
    "player_2019 <- filter(player_result, tourney_date <= 20199999\n",
    "                       , tourney_date >=20190000) |>\n",
    "  select(winner_id, loser_id, w_ace, l_ace, w_df, l_df, winner_rank, loser_rank)\n",
    "\n",
    "# seperate the original data into winner and loser\n",
    "player_winner <- player_2019 |>\n",
    "  select(winner_id, w_ace, w_df, winner_rank) |>\n",
    "  rename(id = winner_id, ace = w_ace, df = w_df, rank = winner_rank)\n",
    "player_loser <- player_2019 |>\n",
    "  select(loser_id, l_ace, l_df, loser_rank) |>\n",
    "  rename(id = loser_id, ace = l_ace, df=l_df, rank = loser_rank)\n",
    "\n",
    "# Combine them together by rows to form a data into a tidy format\n",
    "player_clean <- bind_rows(player_winner, player_loser)\n",
    "head(player_clean)"
   ]
  },
  {
   "cell_type": "code",
   "execution_count": null,
   "id": "c2ab3040-f379-4aeb-94ce-9a6e698dbaa8",
   "metadata": {},
   "outputs": [],
   "source": [
    "# Split data into training data and testing data\n",
    "player_split <- player_clean |>\n",
    "  initial_split(prop = 0.75, strata = rank)\n",
    "player_training <- training(player_split)\n",
    "player_testing <- testing(player_split)\n",
    "head(player_training)"
   ]
  },
  {
   "cell_type": "markdown",
   "id": "b13dc6fa-4d49-4f9b-82f2-977c6faebab1",
   "metadata": {},
   "source": [
    "**Summarizing The Data**"
   ]
  },
  {
   "cell_type": "code",
   "execution_count": null,
   "id": "7df627a3-f97f-4fa4-ba92-3d1eaa10bd23",
   "metadata": {},
   "outputs": [],
   "source": [
    "# Exploratory data analysis to training data\n",
    "Summarised_training <- player_training |>\n",
    "  summarize(ace_mean = mean(ace, na.rm = TRUE),\n",
    "            df_mean = mean(df, na.rm = TRUE),\n",
    "            missing_id = sum(is.na(id)), \n",
    "            missing_ace = sum(is.na(ace)),\n",
    "            missing_df = sum(is.na(df)),\n",
    "            missing_rank = sum(is.na(rank)))\n",
    "Summarised_training"
   ]
  },
  {
   "cell_type": "markdown",
   "id": "4738f04a-ba8c-4b26-ad76-ee5b8c2a4637",
   "metadata": {},
   "source": [
    "**Visualizing The Data**"
   ]
  },
  {
   "cell_type": "code",
   "execution_count": null,
   "id": "2453b884-3c3c-4873-8c80-ce0916c583ef",
   "metadata": {},
   "outputs": [],
   "source": [
    "ace_plot<-ggplot(player_training, aes(x=ace))+\n",
    "geom_histogram(binwidth=1, colour=\"black\", fill=\"white\")+\n",
    "xlab(\"Ace serves (Per Player Per game)\")\n",
    "ylab(\"Count\")+\n",
    "theme(text = element_text(size=25))\n",
    "df_plot<-ggplot(player_training, aes(x=df))+\n",
    "geom_histogram(binwidth=1, colour=\"black\", fill=\"white\")+\n",
    "xlab(\"Double Faults (Per Player Per game)\")\n",
    "ylab(\"Count\")+\n",
    "theme(text = element_text(size=50))\n",
    "ace_plot\n",
    "df_plot"
   ]
  },
  {
   "cell_type": "markdown",
   "id": "d6ccce48-ff9c-474b-9ea9-8ec17fc1e624",
   "metadata": {},
   "source": [
    "WRITING SECTION describe how we are going to do the regression question. How will we visualize it ?"
   ]
  },
  {
   "cell_type": "markdown",
   "id": "06519f93-e21b-4b27-bf6b-fc1e652e5c02",
   "metadata": {},
   "source": [
    "WRITING SECTIONOutcomes. predict results. impact. questions will it lead too"
   ]
  }
 ],
 "metadata": {
  "kernelspec": {
   "display_name": "R",
   "language": "R",
   "name": "ir"
  },
  "language_info": {
   "codemirror_mode": "r",
   "file_extension": ".r",
   "mimetype": "text/x-r-source",
   "name": "R",
   "pygments_lexer": "r",
   "version": "4.3.1"
  }
 },
 "nbformat": 4,
 "nbformat_minor": 5
}
