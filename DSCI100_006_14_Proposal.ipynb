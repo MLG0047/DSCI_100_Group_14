{
 "cells": [
  {
   "cell_type": "markdown",
   "id": "e3bf7eb6-9259-4a71-bbf3-084dfbdb01df",
   "metadata": {},
   "source": [
    "TITLE HERE"
   ]
  },
  {
   "cell_type": "markdown",
   "id": "f0f00018-8d16-416c-ae05-0dfca6c05f7a",
   "metadata": {},
   "source": [
    "Intro start. explain tennis rankings, how you move up and down, is 1 good or bad etc) explain a bit about the ace serve \n",
    "and double fault. what they are\n",
    "\n",
    "explain our question. can we estimate a players ranking based on ratio of ace serve to double fault etc\n"
   ]
  },
  {
   "cell_type": "markdown",
   "id": "cb13e69a-2b57-4c75-9ce2-38ed97b3f224",
   "metadata": {},
   "source": [
    "descibe data. what are we measuring"
   ]
  },
  {
   "cell_type": "markdown",
   "id": "4b51aa0d-ac24-4b4d-ae9e-5d4fa85539f3",
   "metadata": {},
   "source": [
    "read data"
   ]
  },
  {
   "cell_type": "code",
   "execution_count": null,
   "id": "16a73354-99b5-42e4-a4b4-a43f788835a6",
   "metadata": {},
   "outputs": [],
   "source": [
    "# load packages\n",
    "library(tidyverse)\n",
    "library(tidymodels)\n",
    "# read the data \n",
    "# note: 1) you may need to download the data first, and use a slightly\n",
    "#          different code to read the data in your device\n",
    "player_result <- read_csv(\"atp2017-2019.csv\")\n",
    "glimpse(player_result)"
   ]
  },
  {
   "cell_type": "markdown",
   "id": "ce320bb6-5596-4c84-b11c-b7a25bd5ddcb",
   "metadata": {},
   "source": [
    "clean and wrangle BREAKDOWN INTO SMALLER STEPS PROBABLY THERE IS A LOT"
   ]
  },
  {
   "cell_type": "code",
   "execution_count": null,
   "id": "f551d500-4741-4d25-8680-2fdaa8494060",
   "metadata": {},
   "outputs": [],
   "source": [
    "# filter year 2019, there is indeed a more formal way with more steps to do that,\n",
    "# but we can simply do it this way with only one step because we don't need the\n",
    "# year information later on\n",
    "player_2019 <- filter(player_result, tourney_date <= 20199999\n",
    "                       , tourney_date >=20190000) |>\n",
    "  select(winner_id, loser_id, w_ace, l_ace, w_df, l_df, winner_rank, loser_rank)\n",
    "\n",
    "# seperate the original data into winner and loser\n",
    "player_winner <- player_2019 |>\n",
    "  select(winner_id, w_ace, w_df, winner_rank) |>\n",
    "  rename(id = winner_id, ace = w_ace, df = w_df, rank = winner_rank)\n",
    "player_loser <- player_2019 |>\n",
    "  select(loser_id, l_ace, l_df, loser_rank) |>\n",
    "  rename(id = loser_id, ace = l_ace, df=l_df, rank = loser_rank)\n",
    "\n",
    "# Combine them together by rows to form a data into a tidy format\n",
    "player_clean <- bind_rows(player_winner, player_loser)\n",
    "head(player_clean)"
   ]
  },
  {
   "cell_type": "markdown",
   "id": "6cf7dc7c-d9d3-45d5-9673-2c36f50f064f",
   "metadata": {},
   "source": [
    "seperate training data from testing data or whatever it is called"
   ]
  },
  {
   "cell_type": "code",
   "execution_count": null,
   "id": "c2ab3040-f379-4aeb-94ce-9a6e698dbaa8",
   "metadata": {},
   "outputs": [],
   "source": [
    "# Split data into training data and testing data\n",
    "player_split <- player_clean |>\n",
    "  initial_split(prop = 0.75, strata = rank)\n",
    "player_training <- training(player_split)\n",
    "player_testing <- testing(player_split)"
   ]
  },
  {
   "cell_type": "markdown",
   "id": "79129f58-c1f4-4b66-90e6-2fdeabd11d10",
   "metadata": {},
   "source": [
    "using training data make a table that contains variable more related to what we are doing.\n",
    "means of the predictor variables you plan to use in your analysis and how many rows have missing data. \n"
   ]
  },
  {
   "cell_type": "code",
   "execution_count": null,
   "id": "7df627a3-f97f-4fa4-ba92-3d1eaa10bd23",
   "metadata": {},
   "outputs": [],
   "source": [
    "# Exploratory data analysis to training data\n",
    "Summarised_training <- player_training |>\n",
    "  summarize(rank_mean = mean(rank, na.rm = TRUE), \n",
    "            missing_id = sum(is.na(id)), \n",
    "            missing_ace = sum(is.na(ace)),\n",
    "            missing_df = sum(is.na(df)),\n",
    "            missing_rank = sum(is.na(rank)))\n",
    "Summarised_training"
   ]
  },
  {
   "cell_type": "markdown",
   "id": "988f27f3-e618-4330-8b1e-7de7bd5582f7",
   "metadata": {},
   "source": [
    "visualize. show a distribution of data.histogram or something of rankings of people entered and maybe ratio distributions"
   ]
  },
  {
   "cell_type": "markdown",
   "id": "d6ccce48-ff9c-474b-9ea9-8ec17fc1e624",
   "metadata": {},
   "source": [
    "WRITING SECTION describe how we are going to do the regression question. How will we visualize it ?"
   ]
  },
  {
   "cell_type": "markdown",
   "id": "06519f93-e21b-4b27-bf6b-fc1e652e5c02",
   "metadata": {},
   "source": [
    "WRITING SECTIONOutcomes. predict results. impact. questions will it lead too"
   ]
  }
 ],
 "metadata": {
  "kernelspec": {
   "display_name": "R",
   "language": "R",
   "name": "ir"
  },
  "language_info": {
   "codemirror_mode": "r",
   "file_extension": ".r",
   "mimetype": "text/x-r-source",
   "name": "R",
   "pygments_lexer": "r",
   "version": "4.3.1"
  }
 },
 "nbformat": 4,
 "nbformat_minor": 5
}
