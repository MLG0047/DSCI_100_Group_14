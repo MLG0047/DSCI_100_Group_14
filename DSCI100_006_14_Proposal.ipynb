{
 "cells": [
  {
   "cell_type": "markdown",
   "id": "e3bf7eb6-9259-4a71-bbf3-084dfbdb01df",
   "metadata": {},
   "source": [
    "TITLE HERE"
   ]
  },
  {
   "cell_type": "markdown",
   "id": "f0f00018-8d16-416c-ae05-0dfca6c05f7a",
   "metadata": {},
   "source": [
    "Intro start. explain tennis rankings, how you move up and down, is 1 good or bad etc) explain a bit about the ace serve \n",
    "and double fault. what they are\n",
    "\n",
    "explain our question. can we estimate a players ranking based on ratio of ace serve to double fault etc\n"
   ]
  },
  {
   "cell_type": "markdown",
   "id": "cb13e69a-2b57-4c75-9ce2-38ed97b3f224",
   "metadata": {},
   "source": [
    "descibe data. what are we measuring"
   ]
  },
  {
   "cell_type": "markdown",
   "id": "4b51aa0d-ac24-4b4d-ae9e-5d4fa85539f3",
   "metadata": {},
   "source": [
    "read data"
   ]
  },
  {
   "cell_type": "code",
   "execution_count": 10,
   "id": "16a73354-99b5-42e4-a4b4-a43f788835a6",
   "metadata": {},
   "outputs": [
    {
     "name": "stderr",
     "output_type": "stream",
     "text": [
      "\u001b[1m\u001b[22mNew names:\n",
      "\u001b[36m•\u001b[39m `` -> `...1`\n",
      "\u001b[1mRows: \u001b[22m\u001b[34m6866\u001b[39m \u001b[1mColumns: \u001b[22m\u001b[34m50\u001b[39m\n",
      "\u001b[36m──\u001b[39m \u001b[1mColumn specification\u001b[22m \u001b[36m────────────────────────────────────────────────────────\u001b[39m\n",
      "\u001b[1mDelimiter:\u001b[22m \",\"\n",
      "\u001b[31mchr\u001b[39m (16): tourney_id, tourney_name, surface, tourney_level, winner_seed, win...\n",
      "\u001b[32mdbl\u001b[39m (34): ...1, draw_size, tourney_date, match_num, winner_id, winner_ht, wi...\n",
      "\n",
      "\u001b[36mℹ\u001b[39m Use `spec()` to retrieve the full column specification for this data.\n",
      "\u001b[36mℹ\u001b[39m Specify the column types or set `show_col_types = FALSE` to quiet this message.\n"
     ]
    },
    {
     "name": "stdout",
     "output_type": "stream",
     "text": [
      "Rows: 6,866\n",
      "Columns: 50\n",
      "$ ...1               \u001b[3m\u001b[90m<dbl>\u001b[39m\u001b[23m 0, 1, 2, 3, 4, 5, 6, 7, 8, 9, 10, 11, 12, 13, 14, 1…\n",
      "$ tourney_id         \u001b[3m\u001b[90m<chr>\u001b[39m\u001b[23m \"2019-M020\", \"2019-M020\", \"2019-M020\", \"2019-M020\",…\n",
      "$ tourney_name       \u001b[3m\u001b[90m<chr>\u001b[39m\u001b[23m \"Brisbane\", \"Brisbane\", \"Brisbane\", \"Brisbane\", \"Br…\n",
      "$ surface            \u001b[3m\u001b[90m<chr>\u001b[39m\u001b[23m \"Hard\", \"Hard\", \"Hard\", \"Hard\", \"Hard\", \"Hard\", \"Ha…\n",
      "$ draw_size          \u001b[3m\u001b[90m<dbl>\u001b[39m\u001b[23m 32, 32, 32, 32, 32, 32, 32, 32, 32, 32, 32, 32, 32,…\n",
      "$ tourney_level      \u001b[3m\u001b[90m<chr>\u001b[39m\u001b[23m \"A\", \"A\", \"A\", \"A\", \"A\", \"A\", \"A\", \"A\", \"A\", \"A\", \"…\n",
      "$ tourney_date       \u001b[3m\u001b[90m<dbl>\u001b[39m\u001b[23m 20181231, 20181231, 20181231, 20181231, 20181231, 2…\n",
      "$ match_num          \u001b[3m\u001b[90m<dbl>\u001b[39m\u001b[23m 300, 299, 298, 297, 296, 295, 294, 293, 292, 291, 2…\n",
      "$ winner_id          \u001b[3m\u001b[90m<dbl>\u001b[39m\u001b[23m 105453, 106421, 105453, 104542, 106421, 104871, 105…\n",
      "$ winner_seed        \u001b[3m\u001b[90m<chr>\u001b[39m\u001b[23m \"2\", \"4\", \"2\", NA, \"4\", NA, \"2\", NA, \"7\", \"4\", \"5\",…\n",
      "$ winner_entry       \u001b[3m\u001b[90m<chr>\u001b[39m\u001b[23m NA, NA, NA, \"PR\", NA, NA, NA, \"PR\", NA, NA, NA, NA,…\n",
      "$ winner_name        \u001b[3m\u001b[90m<chr>\u001b[39m\u001b[23m \"Kei Nishikori\", \"Daniil Medvedev\", \"Kei Nishikori\"…\n",
      "$ winner_hand        \u001b[3m\u001b[90m<chr>\u001b[39m\u001b[23m \"R\", \"R\", \"R\", \"R\", \"R\", \"R\", \"R\", \"R\", \"R\", \"R\", \"…\n",
      "$ winner_ht          \u001b[3m\u001b[90m<dbl>\u001b[39m\u001b[23m 178, NA, 178, 188, NA, 188, 178, 188, NA, NA, 196, …\n",
      "$ winner_ioc         \u001b[3m\u001b[90m<chr>\u001b[39m\u001b[23m \"JPN\", \"RUS\", \"JPN\", \"FRA\", \"RUS\", \"FRA\", \"JPN\", \"F…\n",
      "$ winner_age         \u001b[3m\u001b[90m<dbl>\u001b[39m\u001b[23m 29.00479, 22.88569, 29.00479, 33.70568, 22.88569, 3…\n",
      "$ loser_id           \u001b[3m\u001b[90m<dbl>\u001b[39m\u001b[23m 106421, 104542, 104871, 200282, 105683, 106034, 105…\n",
      "$ loser_seed         \u001b[3m\u001b[90m<chr>\u001b[39m\u001b[23m \"4\", NA, NA, \"7\", \"5\", NA, \"6\", NA, NA, NA, NA, \"8\"…\n",
      "$ loser_entry        \u001b[3m\u001b[90m<chr>\u001b[39m\u001b[23m NA, \"PR\", NA, NA, NA, \"Q\", NA, \"LL\", NA, \"PR\", \"Q\",…\n",
      "$ loser_name         \u001b[3m\u001b[90m<chr>\u001b[39m\u001b[23m \"Daniil Medvedev\", \"Jo Wilfried Tsonga\", \"Jeremy Ch…\n",
      "$ loser_hand         \u001b[3m\u001b[90m<chr>\u001b[39m\u001b[23m \"R\", \"R\", \"R\", \"R\", \"R\", \"R\", \"R\", \"R\", \"R\", \"R\", \"…\n",
      "$ loser_ht           \u001b[3m\u001b[90m<dbl>\u001b[39m\u001b[23m NA, 188, 188, NA, 196, NA, 188, NA, NA, 190, NA, 19…\n",
      "$ loser_ioc          \u001b[3m\u001b[90m<chr>\u001b[39m\u001b[23m \"RUS\", \"FRA\", \"FRA\", \"AUS\", \"CAN\", \"JPN\", \"BUL\", \"J…\n",
      "$ loser_age          \u001b[3m\u001b[90m<dbl>\u001b[39m\u001b[23m 22.88569, 33.70568, 31.88227, 19.86858, 28.01095, 2…\n",
      "$ score              \u001b[3m\u001b[90m<chr>\u001b[39m\u001b[23m \"6-4 3-6 6-2\", \"7-6(6) 6-2\", \"6-2 6-2\", \"6-4 7-6(2)…\n",
      "$ best_of            \u001b[3m\u001b[90m<dbl>\u001b[39m\u001b[23m 3, 3, 3, 3, 3, 3, 3, 3, 3, 3, 3, 3, 3, 3, 3, 3, 3, …\n",
      "$ round              \u001b[3m\u001b[90m<chr>\u001b[39m\u001b[23m \"F\", \"SF\", \"SF\", \"QF\", \"QF\", \"QF\", \"QF\", \"R16\", \"R1…\n",
      "$ minutes            \u001b[3m\u001b[90m<dbl>\u001b[39m\u001b[23m 124, 82, 66, 106, 129, 127, 100, 100, 80, 81, 82, 9…\n",
      "$ w_ace              \u001b[3m\u001b[90m<dbl>\u001b[39m\u001b[23m 3, 10, 2, 12, 12, 10, 5, 11, 1, 16, 21, 17, 15, 6, …\n",
      "$ w_df               \u001b[3m\u001b[90m<dbl>\u001b[39m\u001b[23m 3, 1, 2, 2, 3, 8, 2, 3, 1, 2, 3, 5, 0, 2, 2, 1, 2, …\n",
      "$ w_svpt             \u001b[3m\u001b[90m<dbl>\u001b[39m\u001b[23m 77, 52, 47, 68, 105, 94, 59, 64, 49, 54, 62, 84, 75…\n",
      "$ w_1stIn            \u001b[3m\u001b[90m<dbl>\u001b[39m\u001b[23m 44, 33, 33, 43, 68, 58, 47, 37, 38, 34, 46, 58, 48,…\n",
      "$ w_1stWon           \u001b[3m\u001b[90m<dbl>\u001b[39m\u001b[23m 31, 28, 26, 34, 48, 44, 37, 30, 29, 27, 40, 50, 41,…\n",
      "$ w_2ndWon           \u001b[3m\u001b[90m<dbl>\u001b[39m\u001b[23m 17, 14, 9, 15, 25, 18, 9, 11, 8, 13, 10, 17, 14, 13…\n",
      "$ w_SvGms            \u001b[3m\u001b[90m<dbl>\u001b[39m\u001b[23m 13, 10, 8, 11, 16, 16, 12, 10, 9, 10, 11, 15, 11, 1…\n",
      "$ w_bpSaved          \u001b[3m\u001b[90m<dbl>\u001b[39m\u001b[23m 3, 0, 2, 4, 8, 4, 0, 4, 0, 0, 0, 2, 3, 2, 0, 2, 0, …\n",
      "$ w_bpFaced          \u001b[3m\u001b[90m<dbl>\u001b[39m\u001b[23m 6, 1, 2, 5, 8, 8, 1, 7, 0, 1, 0, 2, 3, 4, 0, 3, 1, …\n",
      "$ l_ace              \u001b[3m\u001b[90m<dbl>\u001b[39m\u001b[23m 8, 17, 10, 1, 29, 12, 8, 3, 5, 6, 3, 13, 7, 1, 5, 3…\n",
      "$ l_df               \u001b[3m\u001b[90m<dbl>\u001b[39m\u001b[23m 6, 2, 3, 2, 5, 6, 5, 7, 0, 1, 0, 6, 1, 1, 3, 0, 3, …\n",
      "$ l_svpt             \u001b[3m\u001b[90m<dbl>\u001b[39m\u001b[23m 100, 77, 46, 81, 94, 90, 80, 85, 56, 60, 71, 80, 75…\n",
      "$ l_1stIn            \u001b[3m\u001b[90m<dbl>\u001b[39m\u001b[23m 54, 52, 27, 60, 56, 54, 53, 51, 39, 39, 44, 59, 50,…\n",
      "$ l_1stWon           \u001b[3m\u001b[90m<dbl>\u001b[39m\u001b[23m 34, 36, 15, 38, 46, 40, 37, 34, 30, 27, 28, 48, 35,…\n",
      "$ l_2ndWon           \u001b[3m\u001b[90m<dbl>\u001b[39m\u001b[23m 20, 7, 6, 9, 19, 18, 13, 11, 3, 7, 18, 10, 14, 10, …\n",
      "$ l_SvGms            \u001b[3m\u001b[90m<dbl>\u001b[39m\u001b[23m 14, 10, 8, 11, 15, 15, 12, 11, 9, 10, 10, 14, 11, 9…\n",
      "$ l_bpSaved          \u001b[3m\u001b[90m<dbl>\u001b[39m\u001b[23m 10, 10, 1, 4, 2, 6, 6, 6, 3, 2, 2, 2, 1, 3, 4, 1, 8…\n",
      "$ l_bpFaced          \u001b[3m\u001b[90m<dbl>\u001b[39m\u001b[23m 15, 13, 5, 6, 4, 9, 9, 11, 6, 6, 3, 5, 2, 7, 7, 3, …\n",
      "$ winner_rank        \u001b[3m\u001b[90m<dbl>\u001b[39m\u001b[23m 9, 16, 9, 239, 16, 40, 9, 239, 31, 16, 18, 40, 185,…\n",
      "$ winner_rank_points \u001b[3m\u001b[90m<dbl>\u001b[39m\u001b[23m 3590, 1977, 3590, 200, 1977, 1050, 3590, 200, 1298,…\n",
      "$ loser_rank         \u001b[3m\u001b[90m<dbl>\u001b[39m\u001b[23m 16, 239, 40, 31, 18, 185, 19, 77, 72, 240, 131, 35,…\n",
      "$ loser_rank_points  \u001b[3m\u001b[90m<dbl>\u001b[39m\u001b[23m 1977, 200, 1050, 1298, 1855, 275, 1835, 691, 715, 2…\n"
     ]
    }
   ],
   "source": [
    "# load packages\n",
    "library(tidyverse)\n",
    "library(tidymodels)\n",
    "# read the data \n",
    "# note: The code below will download the data into the current working directory and read it\n",
    "url <- \"https://drive.google.com/uc?export=download&id=1fOQ8sy_qMkQiQEAO6uFdRX4tLI8EpSTn\"\n",
    "download.file(url, \"./atp2017-2019.csv\")\n",
    "player_result <- read_csv(\"./atp2017-2019.csv\")\n",
    "glimpse(player_result)"
   ]
  },
  {
   "cell_type": "markdown",
   "id": "ce320bb6-5596-4c84-b11c-b7a25bd5ddcb",
   "metadata": {},
   "source": [
    "clean and wrangle BREAKDOWN INTO SMALLER STEPS PROBABLY THERE IS A LOT"
   ]
  },
  {
   "cell_type": "code",
   "execution_count": 11,
   "id": "f551d500-4741-4d25-8680-2fdaa8494060",
   "metadata": {},
   "outputs": [
    {
     "data": {
      "text/html": [
       "<table class=\"dataframe\">\n",
       "<caption>A tibble: 6 × 4</caption>\n",
       "<thead>\n",
       "\t<tr><th scope=col>id</th><th scope=col>ace</th><th scope=col>df</th><th scope=col>rank</th></tr>\n",
       "\t<tr><th scope=col>&lt;dbl&gt;</th><th scope=col>&lt;dbl&gt;</th><th scope=col>&lt;dbl&gt;</th><th scope=col>&lt;dbl&gt;</th></tr>\n",
       "</thead>\n",
       "<tbody>\n",
       "\t<tr><td>105815</td><td> 7</td><td>2</td><td>63</td></tr>\n",
       "\t<tr><td>111815</td><td>17</td><td>5</td><td>93</td></tr>\n",
       "\t<tr><td>105815</td><td> 9</td><td>0</td><td>63</td></tr>\n",
       "\t<tr><td>111815</td><td>11</td><td>0</td><td>93</td></tr>\n",
       "\t<tr><td>105526</td><td>22</td><td>3</td><td>58</td></tr>\n",
       "\t<tr><td>105815</td><td>11</td><td>1</td><td>63</td></tr>\n",
       "</tbody>\n",
       "</table>\n"
      ],
      "text/latex": [
       "A tibble: 6 × 4\n",
       "\\begin{tabular}{llll}\n",
       " id & ace & df & rank\\\\\n",
       " <dbl> & <dbl> & <dbl> & <dbl>\\\\\n",
       "\\hline\n",
       "\t 105815 &  7 & 2 & 63\\\\\n",
       "\t 111815 & 17 & 5 & 93\\\\\n",
       "\t 105815 &  9 & 0 & 63\\\\\n",
       "\t 111815 & 11 & 0 & 93\\\\\n",
       "\t 105526 & 22 & 3 & 58\\\\\n",
       "\t 105815 & 11 & 1 & 63\\\\\n",
       "\\end{tabular}\n"
      ],
      "text/markdown": [
       "\n",
       "A tibble: 6 × 4\n",
       "\n",
       "| id &lt;dbl&gt; | ace &lt;dbl&gt; | df &lt;dbl&gt; | rank &lt;dbl&gt; |\n",
       "|---|---|---|---|\n",
       "| 105815 |  7 | 2 | 63 |\n",
       "| 111815 | 17 | 5 | 93 |\n",
       "| 105815 |  9 | 0 | 63 |\n",
       "| 111815 | 11 | 0 | 93 |\n",
       "| 105526 | 22 | 3 | 58 |\n",
       "| 105815 | 11 | 1 | 63 |\n",
       "\n"
      ],
      "text/plain": [
       "  id     ace df rank\n",
       "1 105815  7  2  63  \n",
       "2 111815 17  5  93  \n",
       "3 105815  9  0  63  \n",
       "4 111815 11  0  93  \n",
       "5 105526 22  3  58  \n",
       "6 105815 11  1  63  "
      ]
     },
     "metadata": {},
     "output_type": "display_data"
    }
   ],
   "source": [
    "# filter year 2019, there is indeed a more formal way with more steps to do that,\n",
    "# but we can simply do it this way with only one step because we don't need the\n",
    "# year information later on\n",
    "player_2019 <- filter(player_result, tourney_date <= 20199999\n",
    "                       , tourney_date >=20190000) |>\n",
    "  select(winner_id, loser_id, w_ace, l_ace, w_df, l_df, winner_rank, loser_rank)\n",
    "\n",
    "# seperate the original data into winner and loser\n",
    "player_winner <- player_2019 |>\n",
    "  select(winner_id, w_ace, w_df, winner_rank) |>\n",
    "  rename(id = winner_id, ace = w_ace, df = w_df, rank = winner_rank)\n",
    "player_loser <- player_2019 |>\n",
    "  select(loser_id, l_ace, l_df, loser_rank) |>\n",
    "  rename(id = loser_id, ace = l_ace, df=l_df, rank = loser_rank)\n",
    "\n",
    "# Combine them together by rows to form a data into a tidy format\n",
    "player_clean <- bind_rows(player_winner, player_loser)\n",
    "head(player_clean)"
   ]
  },
  {
   "cell_type": "markdown",
   "id": "6cf7dc7c-d9d3-45d5-9673-2c36f50f064f",
   "metadata": {},
   "source": [
    "seperate training data from testing data or whatever it is called"
   ]
  },
  {
   "cell_type": "code",
   "execution_count": 15,
   "id": "c2ab3040-f379-4aeb-94ce-9a6e698dbaa8",
   "metadata": {},
   "outputs": [
    {
     "data": {
      "text/html": [
       "<table class=\"dataframe\">\n",
       "<caption>A tibble: 6 × 4</caption>\n",
       "<thead>\n",
       "\t<tr><th scope=col>id</th><th scope=col>ace</th><th scope=col>df</th><th scope=col>rank</th></tr>\n",
       "\t<tr><th scope=col>&lt;dbl&gt;</th><th scope=col>&lt;dbl&gt;</th><th scope=col>&lt;dbl&gt;</th><th scope=col>&lt;dbl&gt;</th></tr>\n",
       "</thead>\n",
       "<tbody>\n",
       "\t<tr><td>104926</td><td> 5</td><td>4</td><td>13</td></tr>\n",
       "\t<tr><td>106043</td><td> 7</td><td>1</td><td>19</td></tr>\n",
       "\t<tr><td>126774</td><td> 8</td><td>1</td><td>15</td></tr>\n",
       "\t<tr><td>104925</td><td> 6</td><td>2</td><td> 1</td></tr>\n",
       "\t<tr><td>105676</td><td> 9</td><td>3</td><td>22</td></tr>\n",
       "\t<tr><td>105807</td><td>20</td><td>3</td><td>23</td></tr>\n",
       "</tbody>\n",
       "</table>\n"
      ],
      "text/latex": [
       "A tibble: 6 × 4\n",
       "\\begin{tabular}{llll}\n",
       " id & ace & df & rank\\\\\n",
       " <dbl> & <dbl> & <dbl> & <dbl>\\\\\n",
       "\\hline\n",
       "\t 104926 &  5 & 4 & 13\\\\\n",
       "\t 106043 &  7 & 1 & 19\\\\\n",
       "\t 126774 &  8 & 1 & 15\\\\\n",
       "\t 104925 &  6 & 2 &  1\\\\\n",
       "\t 105676 &  9 & 3 & 22\\\\\n",
       "\t 105807 & 20 & 3 & 23\\\\\n",
       "\\end{tabular}\n"
      ],
      "text/markdown": [
       "\n",
       "A tibble: 6 × 4\n",
       "\n",
       "| id &lt;dbl&gt; | ace &lt;dbl&gt; | df &lt;dbl&gt; | rank &lt;dbl&gt; |\n",
       "|---|---|---|---|\n",
       "| 104926 |  5 | 4 | 13 |\n",
       "| 106043 |  7 | 1 | 19 |\n",
       "| 126774 |  8 | 1 | 15 |\n",
       "| 104925 |  6 | 2 |  1 |\n",
       "| 105676 |  9 | 3 | 22 |\n",
       "| 105807 | 20 | 3 | 23 |\n",
       "\n"
      ],
      "text/plain": [
       "  id     ace df rank\n",
       "1 104926  5  4  13  \n",
       "2 106043  7  1  19  \n",
       "3 126774  8  1  15  \n",
       "4 104925  6  2   1  \n",
       "5 105676  9  3  22  \n",
       "6 105807 20  3  23  "
      ]
     },
     "metadata": {},
     "output_type": "display_data"
    }
   ],
   "source": [
    "# Split data into training data and testing data\n",
    "player_split <- player_clean |>\n",
    "  initial_split(prop = 0.75, strata = rank)\n",
    "player_training <- training(player_split)\n",
    "player_testing <- testing(player_split)\n",
    "head(player_training)"
   ]
  },
  {
   "cell_type": "markdown",
   "id": "79129f58-c1f4-4b66-90e6-2fdeabd11d10",
   "metadata": {},
   "source": [
    "using training data make a table that contains variable more related to what we are doing.\n",
    "means of the predictor variables you plan to use in your analysis and how many rows have missing data. \n"
   ]
  },
  {
   "cell_type": "code",
   "execution_count": 16,
   "id": "7df627a3-f97f-4fa4-ba92-3d1eaa10bd23",
   "metadata": {},
   "outputs": [
    {
     "data": {
      "text/html": [
       "<table class=\"dataframe\">\n",
       "<caption>A tibble: 1 × 5</caption>\n",
       "<thead>\n",
       "\t<tr><th scope=col>rank_mean</th><th scope=col>missing_id</th><th scope=col>missing_ace</th><th scope=col>missing_df</th><th scope=col>missing_rank</th></tr>\n",
       "\t<tr><th scope=col>&lt;dbl&gt;</th><th scope=col>&lt;int&gt;</th><th scope=col>&lt;int&gt;</th><th scope=col>&lt;int&gt;</th><th scope=col>&lt;int&gt;</th></tr>\n",
       "</thead>\n",
       "<tbody>\n",
       "\t<tr><td>68.20107</td><td>0</td><td>81</td><td>81</td><td>6</td></tr>\n",
       "</tbody>\n",
       "</table>\n"
      ],
      "text/latex": [
       "A tibble: 1 × 5\n",
       "\\begin{tabular}{lllll}\n",
       " rank\\_mean & missing\\_id & missing\\_ace & missing\\_df & missing\\_rank\\\\\n",
       " <dbl> & <int> & <int> & <int> & <int>\\\\\n",
       "\\hline\n",
       "\t 68.20107 & 0 & 81 & 81 & 6\\\\\n",
       "\\end{tabular}\n"
      ],
      "text/markdown": [
       "\n",
       "A tibble: 1 × 5\n",
       "\n",
       "| rank_mean &lt;dbl&gt; | missing_id &lt;int&gt; | missing_ace &lt;int&gt; | missing_df &lt;int&gt; | missing_rank &lt;int&gt; |\n",
       "|---|---|---|---|---|\n",
       "| 68.20107 | 0 | 81 | 81 | 6 |\n",
       "\n"
      ],
      "text/plain": [
       "  rank_mean missing_id missing_ace missing_df missing_rank\n",
       "1 68.20107  0          81          81         6           "
      ]
     },
     "metadata": {},
     "output_type": "display_data"
    }
   ],
   "source": [
    "# Exploratory data analysis to training data\n",
    "Summarised_training <- player_training |>\n",
    "  summarize(rank_mean = mean(rank, na.rm = TRUE), \n",
    "            missing_id = sum(is.na(id)), \n",
    "            missing_ace = sum(is.na(ace)),\n",
    "            missing_df = sum(is.na(df)),\n",
    "            missing_rank = sum(is.na(rank)))\n",
    "Summarised_training"
   ]
  },
  {
   "cell_type": "markdown",
   "id": "988f27f3-e618-4330-8b1e-7de7bd5582f7",
   "metadata": {},
   "source": [
    "visualize. show a distribution of data.histogram or something of rankings of people entered and maybe ratio distributions"
   ]
  },
  {
   "cell_type": "markdown",
   "id": "d6ccce48-ff9c-474b-9ea9-8ec17fc1e624",
   "metadata": {},
   "source": [
    "WRITING SECTION describe how we are going to do the regression question. How will we visualize it ?"
   ]
  },
  {
   "cell_type": "markdown",
   "id": "06519f93-e21b-4b27-bf6b-fc1e652e5c02",
   "metadata": {},
   "source": [
    "WRITING SECTIONOutcomes. predict results. impact. questions will it lead too"
   ]
  }
 ],
 "metadata": {
  "kernelspec": {
   "display_name": "R",
   "language": "R",
   "name": "ir"
  },
  "language_info": {
   "codemirror_mode": "r",
   "file_extension": ".r",
   "mimetype": "text/x-r-source",
   "name": "R",
   "pygments_lexer": "r",
   "version": "4.3.1"
  }
 },
 "nbformat": 4,
 "nbformat_minor": 5
}
