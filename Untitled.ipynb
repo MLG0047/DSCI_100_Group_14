{
 "cells": [
  {
   "cell_type": "markdown",
   "id": "6d4001eb-12c3-4261-a921-b7801a6e5ed2",
   "metadata": {},
   "source": [
    "PLEASE LET ME LEARN GITHUB"
   ]
  }
 ],
 "metadata": {
  "kernelspec": {
   "display_name": "R",
   "language": "R",
   "name": "ir"
  },
  "language_info": {
   "codemirror_mode": "r",
   "file_extension": ".r",
   "mimetype": "text/x-r-source",
   "name": "R",
   "pygments_lexer": "r",
   "version": "4.3.1"
  }
 },
 "nbformat": 4,
 "nbformat_minor": 5
}
