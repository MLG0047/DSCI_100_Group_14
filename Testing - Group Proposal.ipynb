{
 "cells": [
  {
   "cell_type": "code",
   "execution_count": 2,
   "id": "2af76693-e6e4-4a62-ac38-3f179735b569",
   "metadata": {},
   "outputs": [
    {
     "name": "stdout",
     "output_type": "stream",
     "text": [
      "[1] \"Testing Tracy\"\n"
     ]
    }
   ],
   "source": [
    "print(\"Testing Tracy\")"
   ]
  },
  {
   "cell_type": "code",
   "execution_count": null,
   "id": "b972c1a2-e6b7-4a6d-b914-9a9c787c92f9",
   "metadata": {},
   "outputs": [],
   "source": [
    "print(\"Hello, World!\")"
   ]
  },
  {
   "cell_type": "code",
   "execution_count": null,
   "id": "3b5b5304-87d9-4e01-bd38-1e3e8ed76830",
   "metadata": {},
   "outputs": [],
   "source": [
    "print(\"Testing 3\")"
   ]
  },
  {
   "cell_type": "code",
   "execution_count": null,
   "id": "4f0127a5-ca94-42c5-9d1d-8f411ad2bf49",
   "metadata": {},
   "outputs": [],
   "source": [
    "library(tidyverse)\n",
    "library(tidymodels)\n",
    "\n",
    "# note:    for visualization, you may need to do all visualization work to the\n",
    "#          data frame named as \"player_training\" in the code below\n",
    "\n",
    "# download data\n",
    "url <- \"https://drive.google.com/uc?export=download&id=1fOQ8sy_qMkQiQEAO6uFdRX4tLI8EpSTn\"\n",
    "download.file(url, \"./atp2017-2019.csv\")\n",
    "\n",
    "# read the data\n",
    "player_result <- read_csv(\"./atp2017-2019.csv\")\n",
    "glimpse(player_result)\n",
    "\n",
    "# filter year 2019, there is indeed a more formal way with more steps to do that,\n",
    "# but we can simply do it this way with only one step because we don't need the\n",
    "# year information later on\n",
    "player_2019 <- filter(player_result, tourney_date <= 20199999\n",
    "                       , tourney_date >=20190000) |>\n",
    "  select(winner_id, loser_id, w_ace, l_ace, w_df, l_df, winner_rank, loser_rank)\n",
    "\n",
    "# seperate the original data into winner and loser\n",
    "player_winner <- player_2019 |>\n",
    "  select(winner_id, w_ace, w_df, winner_rank) |>\n",
    "  rename(id = winner_id, ace = w_ace, df = w_df, rank = winner_rank)\n",
    "player_loser <- player_2019 |>\n",
    "  select(loser_id, l_ace, l_df, loser_rank) |>\n",
    "  rename(id = loser_id, ace = l_ace, df=l_df, rank = loser_rank)\n",
    "\n",
    "# Combine them together by rows to form a data into a tidy format\n",
    "player_clean <- bind_rows(player_winner, player_loser)\n",
    "head(player_clean)\n",
    "\n",
    "# Split data into training data and testing data\n",
    "player_split <- player_clean |>\n",
    "  initial_split(prop = 0.75, strata = rank)\n",
    "player_training <- training(player_split)\n",
    "player_testing <- testing(player_split)\n",
    "\n",
    "# Exploratory data analysis to training data\n",
    "Summarised_training <- player_training |>\n",
    "  summarize(rank_mean = mean(rank, na.rm = TRUE), \n",
    "            missing_id = sum(is.na(id)), \n",
    "            missing_ace = sum(is.na(ace)),\n",
    "            missing_df = sum(is.na(df)),\n",
    "            missing_rank = sum(is.na(rank)))\n",
    "Summarised_training\n"
   ]
  }
 ],
 "metadata": {
  "kernelspec": {
   "display_name": "R",
   "language": "R",
   "name": "ir"
  },
  "language_info": {
   "codemirror_mode": "r",
   "file_extension": ".r",
   "mimetype": "text/x-r-source",
   "name": "R",
   "pygments_lexer": "r",
   "version": "4.3.1"
  }
 },
 "nbformat": 4,
 "nbformat_minor": 5
}
